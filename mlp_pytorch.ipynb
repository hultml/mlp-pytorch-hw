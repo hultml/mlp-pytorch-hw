{
 "cells": [
  {
   "cell_type": "markdown",
   "id": "7871a854-52ce-4ad4-aa3c-e67c63dcd203",
   "metadata": {},
   "source": [
    "# HW2: Training a Neural network on the mnist data\n",
    "\n",
    "We are going to train a neural network here, like we trained a logistic regression in the class repository.\n",
    "\n",
    "You will need to read `logistic.ipynb` and `logistic_pytorch.ipynb` in that repo for this to make any sense."
   ]
  },
  {
   "cell_type": "code",
   "execution_count": 1,
   "id": "57227770-86ed-4449-b239-9fa59bf83239",
   "metadata": {},
   "outputs": [],
   "source": [
    "import torch\n",
    "import torch.nn as nn\n",
    "import torch.optim as optim\n",
    "from torchvision import datasets, transforms\n",
    "from torch.utils.data import DataLoader\n",
    "import matplotlib.pyplot as plt\n",
    "import numpy as np"
   ]
  },
  {
   "cell_type": "code",
   "execution_count": 2,
   "id": "ca74cd6c-5877-410f-8051-ba45930d086c",
   "metadata": {},
   "outputs": [
    {
     "data": {
      "text/plain": [
       "<torch._C.Generator at 0x1104a30f0>"
      ]
     },
     "execution_count": 2,
     "metadata": {},
     "output_type": "execute_result"
    }
   ],
   "source": [
    "# Set random seed for reproducibility\n",
    "torch.manual_seed(42)"
   ]
  },
  {
   "cell_type": "code",
   "execution_count": 3,
   "id": "e008d818-7866-4bfb-9b74-122985afc8cf",
   "metadata": {},
   "outputs": [],
   "source": [
    "# Define transformations\n",
    "transform = transforms.Compose([\n",
    "    transforms.ToTensor(),\n",
    "    transforms.Normalize((0.1307,), (0.3081,))\n",
    "])"
   ]
  },
  {
   "cell_type": "code",
   "execution_count": 4,
   "id": "2489f8dc-b753-4563-a431-fe69d88965ac",
   "metadata": {},
   "outputs": [
    {
     "name": "stdout",
     "output_type": "stream",
     "text": [
      "Downloading http://yann.lecun.com/exdb/mnist/train-images-idx3-ubyte.gz\n",
      "Failed to download (trying next):\n",
      "<urlopen error [SSL: CERTIFICATE_VERIFY_FAILED] certificate verify failed: certificate has expired (_ssl.c:1006)>\n",
      "\n",
      "Downloading https://ossci-datasets.s3.amazonaws.com/mnist/train-images-idx3-ubyte.gz\n",
      "Downloading https://ossci-datasets.s3.amazonaws.com/mnist/train-images-idx3-ubyte.gz to ./data/MNIST/raw/train-images-idx3-ubyte.gz\n"
     ]
    },
    {
     "name": "stderr",
     "output_type": "stream",
     "text": [
      "100.0%\n"
     ]
    },
    {
     "name": "stdout",
     "output_type": "stream",
     "text": [
      "Extracting ./data/MNIST/raw/train-images-idx3-ubyte.gz to ./data/MNIST/raw\n",
      "\n",
      "Downloading http://yann.lecun.com/exdb/mnist/train-labels-idx1-ubyte.gz\n",
      "Failed to download (trying next):\n",
      "<urlopen error [SSL: CERTIFICATE_VERIFY_FAILED] certificate verify failed: certificate has expired (_ssl.c:1006)>\n",
      "\n",
      "Downloading https://ossci-datasets.s3.amazonaws.com/mnist/train-labels-idx1-ubyte.gz\n",
      "Downloading https://ossci-datasets.s3.amazonaws.com/mnist/train-labels-idx1-ubyte.gz to ./data/MNIST/raw/train-labels-idx1-ubyte.gz\n"
     ]
    },
    {
     "name": "stderr",
     "output_type": "stream",
     "text": [
      "100.0%\n"
     ]
    },
    {
     "name": "stdout",
     "output_type": "stream",
     "text": [
      "Extracting ./data/MNIST/raw/train-labels-idx1-ubyte.gz to ./data/MNIST/raw\n",
      "\n",
      "Downloading http://yann.lecun.com/exdb/mnist/t10k-images-idx3-ubyte.gz\n",
      "Failed to download (trying next):\n",
      "<urlopen error [SSL: CERTIFICATE_VERIFY_FAILED] certificate verify failed: certificate has expired (_ssl.c:1006)>\n",
      "\n",
      "Downloading https://ossci-datasets.s3.amazonaws.com/mnist/t10k-images-idx3-ubyte.gz\n",
      "Downloading https://ossci-datasets.s3.amazonaws.com/mnist/t10k-images-idx3-ubyte.gz to ./data/MNIST/raw/t10k-images-idx3-ubyte.gz\n"
     ]
    },
    {
     "name": "stderr",
     "output_type": "stream",
     "text": [
      "100.0%\n"
     ]
    },
    {
     "name": "stdout",
     "output_type": "stream",
     "text": [
      "Extracting ./data/MNIST/raw/t10k-images-idx3-ubyte.gz to ./data/MNIST/raw\n",
      "\n",
      "Downloading http://yann.lecun.com/exdb/mnist/t10k-labels-idx1-ubyte.gz\n",
      "Failed to download (trying next):\n",
      "<urlopen error [SSL: CERTIFICATE_VERIFY_FAILED] certificate verify failed: certificate has expired (_ssl.c:1006)>\n",
      "\n",
      "Downloading https://ossci-datasets.s3.amazonaws.com/mnist/t10k-labels-idx1-ubyte.gz\n"
     ]
    },
    {
     "name": "stderr",
     "output_type": "stream",
     "text": [
      "100.0%"
     ]
    },
    {
     "name": "stdout",
     "output_type": "stream",
     "text": [
      "Downloading https://ossci-datasets.s3.amazonaws.com/mnist/t10k-labels-idx1-ubyte.gz to ./data/MNIST/raw/t10k-labels-idx1-ubyte.gz\n",
      "Extracting ./data/MNIST/raw/t10k-labels-idx1-ubyte.gz to ./data/MNIST/raw\n",
      "\n"
     ]
    },
    {
     "name": "stderr",
     "output_type": "stream",
     "text": [
      "\n"
     ]
    }
   ],
   "source": [
    "# Load MNIST dataset\n",
    "train_dataset = datasets.MNIST(root='./data', train=True, download=True, transform=transform)\n",
    "test_dataset = datasets.MNIST(root='./data', train=False, download=True, transform=transform)"
   ]
  },
  {
   "cell_type": "code",
   "execution_count": 5,
   "id": "3deeab67-b010-49c4-a39c-e1156de9a50d",
   "metadata": {},
   "outputs": [
    {
     "name": "stdout",
     "output_type": "stream",
     "text": [
      "t10k-images-idx3-ubyte     train-images-idx3-ubyte\n",
      "t10k-images-idx3-ubyte.gz  train-images-idx3-ubyte.gz\n",
      "t10k-labels-idx1-ubyte     train-labels-idx1-ubyte\n",
      "t10k-labels-idx1-ubyte.gz  train-labels-idx1-ubyte.gz\n"
     ]
    }
   ],
   "source": [
    "!ls data/MNIST/raw"
   ]
  },
  {
   "cell_type": "code",
   "execution_count": 6,
   "id": "d8d6d8f7-23de-4f24-81c4-0213bf88c767",
   "metadata": {},
   "outputs": [],
   "source": [
    "# Split train dataset into train and validation\n",
    "train_size = int(0.8 * len(train_dataset))\n",
    "val_size = len(train_dataset) - train_size\n",
    "train_dataset, val_dataset = torch.utils.data.random_split(train_dataset, [train_size, val_size])"
   ]
  },
  {
   "cell_type": "code",
   "execution_count": 7,
   "id": "cb6b074a-c2c5-4829-b36d-823c16fc0add",
   "metadata": {},
   "outputs": [
    {
     "name": "stdout",
     "output_type": "stream",
     "text": [
      "Displaying random images from the training set:\n"
     ]
    },
    {
     "data": {
      "image/png": "[encoded data removed]",
      "text/plain": [
       "<Figure size 1500x300 with 5 Axes>"
      ]
     },
     "metadata": {},
     "output_type": "display_data"
    }
   ],
   "source": [
    "# Function to display random images from the dataset\n",
    "def display_random_images(dataset, num_images=5):\n",
    "    fig, axes = plt.subplots(1, num_images, figsize=(15, 3))\n",
    "    for i in range(num_images):\n",
    "        idx = torch.randint(len(dataset), size=(1,)).item()\n",
    "        img, label = dataset[idx]\n",
    "        img = img.squeeze().numpy()\n",
    "        axes[i].imshow(img, cmap='gray')\n",
    "        axes[i].set_title(f\"Label: {label}\")\n",
    "        axes[i].axis('off')\n",
    "    plt.tight_layout()\n",
    "    plt.show()\n",
    "\n",
    "# Display random images from the training set\n",
    "print(\"Displaying random images from the training set:\")\n",
    "display_random_images(train_dataset)"
   ]
  },
  {
   "cell_type": "code",
   "execution_count": 33,
   "id": "f3228750-229b-4082-973c-3415136fc250",
   "metadata": {},
   "outputs": [],
   "source": [
    "# Create a full-batch loader for simple gradient descent\n",
    "full_batch_loader = DataLoader(train_dataset, batch_size=train_size, shuffle=True)\n",
    "val_loader = DataLoader(val_dataset, batch_size=val_size, shuffle=False)\n",
    "test_loader = DataLoader(test_dataset, batch_size=len(test_dataset), shuffle=False)"
   ]
  },
  {
   "cell_type": "markdown",
   "id": "1e2a1dbb-6cc4-42d8-acf0-5db5c993d3b8",
   "metadata": {},
   "source": [
    "Here is our model. We do 100 linear transformations with an intercept term, on 784 inputd (all the pixels). The `x.view` flattens the 2-D pixels into a vector. Then we do the 100 linear transformations (784 slopes + 1 intercept = 785 parameters EACH!). Then we pass them through the ReLU nonlinearity (see [RELU](https://machinelearningmastery.com/rectified-linear-activation-function-for-deep-learning-neural-networks/) for more). (otherwise everything would be a linear transform). We have 100 outputs or activations. Then we do 10 transformations to our 10 classes, at which point we apply the cross-entropy loss including a softmax.\n",
    "\n",
    "Here is a great resource on sigmoid and softmax you should read. [https://web.stanford.edu/~nanbhas/blog/sigmoid-softmax/](https://web.stanford.edu/~nanbhas/blog/sigmoid-softmax/). Watching the 3-blue 1 brown videos again will be useful!"
   ]
  },
  {
   "cell_type": "code",
   "execution_count": 34,
   "id": "109a4ec9-da96-491f-b46a-05413c65b2a2",
   "metadata": {},
   "outputs": [],
   "source": [
    "# Define the neural network model\n",
    "class MultiLayerPerceptron(nn.Module):\n",
    "    def __init__(self):\n",
    "        super(MultiLayerPerceptron, self).__init__()\n",
    "        self.linear1 = nn.Linear(28 * 28, 100)\n",
    "        self.relu = nn.ReLU()\n",
    "        self.linear2 = nn.Linear(100, 10)\n",
    "    \n",
    "    def forward(self, x):\n",
    "        x = x.view(-1, 28 * 28)\n",
    "        x = self.linear1(x)\n",
    "        x = self.relu(x)\n",
    "        x = self.linear2(x)\n",
    "        return x"
   ]
  },
  {
   "cell_type": "code",
   "execution_count": 35,
   "id": "82c304a1-5e29-41a4-8b46-d6728566a945",
   "metadata": {},
   "outputs": [],
   "source": [
    "# Initialize the model, loss function, and optimizer\n",
    "model = MultiLayerPerceptron()\n",
    "criterion = nn.CrossEntropyLoss()\n",
    "optimizer = optim.SGD(model.parameters(), lr=0.01)"
   ]
  },
  {
   "cell_type": "code",
   "execution_count": 36,
   "id": "8000a19b-686d-4b5f-abef-cf67501fcbbd",
   "metadata": {},
   "outputs": [],
   "source": [
    "# Validation function\n",
    "def validate(model, loader, criterion):\n",
    "    model.eval()\n",
    "    running_loss = 0.0\n",
    "    correct = 0\n",
    "    total = 0\n",
    "    \n",
    "    with torch.no_grad():\n",
    "        for images, labels in loader:\n",
    "            outputs = model(images)\n",
    "            loss = criterion(outputs, labels)\n",
    "            \n",
    "            running_loss += loss.item()\n",
    "            _, predicted = outputs.max(1)\n",
    "            total += labels.size(0)\n",
    "            correct += predicted.eq(labels).sum().item()\n",
    "    \n",
    "    return running_loss / len(loader), 100. * correct / total"
   ]
  },
  {
   "cell_type": "markdown",
   "id": "7ea28da3-f504-43a4-a0d1-bcf8af402940",
   "metadata": {},
   "source": [
    "`model.train()` is called at the beginning of each training epoch. This ensures that:\n",
    "\n",
    "- If the model has dropout layers, they will be active during training.\n",
    "- If the model has batch normalization layers, they will update their running statistics.\n",
    "\n",
    "`optimizer.zero_grad()` is called at the beginning of each batch. This ensures that:\n",
    "\n",
    "- The gradients from the previous batch don't interfere with the current batch.\n",
    "- Each batch starts with a clean slate for gradient computation.\n",
    "\n",
    "\n",
    "`model.eval()` is called before the evaluation phase. This ensures that:\n",
    "\n",
    "- Dropout layers (if any) don't drop any neurons during evaluation.\n",
    "- Batch normalization layers (if any) use their stored statistics instead of computing batch statistics.\n",
    "\n",
    "\n",
    "`torch.no_grad()` is used during evaluation to disable gradient computation, which:\n",
    "\n",
    "- Saves memory\n",
    "- Speeds up computation\n",
    "- Is appropriate since we're not updating the model during evaluation"
   ]
  },
  {
   "cell_type": "code",
   "execution_count": 37,
   "id": "b0d3e8b2-f880-49a5-8afb-a8c599340fc2",
   "metadata": {},
   "outputs": [],
   "source": [
    "# Create data loaders\n",
    "batch_size = 64\n",
    "train_loader = DataLoader(train_dataset, batch_size=batch_size, shuffle=True)\n",
    "val_loader = DataLoader(val_dataset, batch_size=batch_size, shuffle=False)\n",
    "test_loader = DataLoader(test_dataset, batch_size=batch_size, shuffle=False)"
   ]
  },
  {
   "cell_type": "code",
   "execution_count": 38,
   "id": "5e9c5954-6faa-421e-88a1-bb441604c43b",
   "metadata": {},
   "outputs": [
    {
     "name": "stdout",
     "output_type": "stream",
     "text": [
      "Epoch 1/20:\n",
      "Train Loss: 0.3553, Train Acc: 89.97%\n",
      "Val Loss: 0.3714, Val Acc: 89.38%\n",
      "\n",
      "Epoch 2/20:\n",
      "Train Loss: 0.2868, Train Acc: 91.83%\n",
      "Val Loss: 0.3066, Val Acc: 91.14%\n",
      "\n",
      "Epoch 3/20:\n",
      "Train Loss: 0.2520, Train Acc: 92.93%\n",
      "Val Loss: 0.2747, Val Acc: 92.14%\n",
      "\n",
      "Epoch 4/20:\n",
      "Train Loss: 0.2251, Train Acc: 93.72%\n",
      "Val Loss: 0.2494, Val Acc: 92.86%\n",
      "\n",
      "Epoch 5/20:\n",
      "Train Loss: 0.2023, Train Acc: 94.33%\n",
      "Val Loss: 0.2271, Val Acc: 93.58%\n",
      "\n",
      "Epoch 6/20:\n",
      "Train Loss: 0.1842, Train Acc: 94.83%\n",
      "Val Loss: 0.2100, Val Acc: 93.93%\n",
      "\n",
      "Epoch 7/20:\n",
      "Train Loss: 0.1700, Train Acc: 95.28%\n",
      "Val Loss: 0.1970, Val Acc: 94.28%\n",
      "\n",
      "Epoch 8/20:\n",
      "Train Loss: 0.1601, Train Acc: 95.44%\n",
      "Val Loss: 0.1886, Val Acc: 94.42%\n",
      "\n",
      "Epoch 9/20:\n",
      "Train Loss: 0.1459, Train Acc: 95.97%\n",
      "Val Loss: 0.1751, Val Acc: 94.98%\n",
      "\n",
      "Epoch 10/20:\n",
      "Train Loss: 0.1362, Train Acc: 96.22%\n",
      "Val Loss: 0.1673, Val Acc: 95.18%\n",
      "\n",
      "Epoch 11/20:\n",
      "Train Loss: 0.1287, Train Acc: 96.39%\n",
      "Val Loss: 0.1596, Val Acc: 95.34%\n",
      "\n",
      "Epoch 12/20:\n",
      "Train Loss: 0.1207, Train Acc: 96.69%\n",
      "Val Loss: 0.1527, Val Acc: 95.57%\n",
      "\n",
      "Epoch 13/20:\n",
      "Train Loss: 0.1140, Train Acc: 96.91%\n",
      "Val Loss: 0.1472, Val Acc: 95.77%\n",
      "\n",
      "Epoch 14/20:\n",
      "Train Loss: 0.1078, Train Acc: 97.09%\n",
      "Val Loss: 0.1427, Val Acc: 95.83%\n",
      "\n",
      "Epoch 15/20:\n",
      "Train Loss: 0.1022, Train Acc: 97.22%\n",
      "Val Loss: 0.1380, Val Acc: 95.94%\n",
      "\n",
      "Epoch 16/20:\n",
      "Train Loss: 0.0971, Train Acc: 97.40%\n",
      "Val Loss: 0.1338, Val Acc: 96.08%\n",
      "\n",
      "Epoch 17/20:\n",
      "Train Loss: 0.0931, Train Acc: 97.50%\n",
      "Val Loss: 0.1305, Val Acc: 96.12%\n",
      "\n",
      "Epoch 18/20:\n",
      "Train Loss: 0.0887, Train Acc: 97.63%\n",
      "Val Loss: 0.1260, Val Acc: 96.29%\n",
      "\n",
      "Epoch 19/20:\n",
      "Train Loss: 0.0853, Train Acc: 97.73%\n",
      "Val Loss: 0.1250, Val Acc: 96.25%\n",
      "\n",
      "Epoch 20/20:\n",
      "Train Loss: 0.0822, Train Acc: 97.85%\n",
      "Val Loss: 0.1221, Val Acc: 96.44%\n",
      "\n"
     ]
    },
    {
     "data": {
      "image/png": "[encoded data removed]",
      "text/plain": [
       "<Figure size 1200x500 with 2 Axes>"
      ]
     },
     "metadata": {},
     "output_type": "display_data"
    },
    {
     "name": "stdout",
     "output_type": "stream",
     "text": [
      "Test Loss: 2.3353, Test Acc: 9.90%\n",
      "SGD Test Loss: 0.1045, SGD Test Acc: 96.91%\n"
     ]
    }
   ],
   "source": [
    "model_sgd = MultiLayerPerceptron()\n",
    "optimizer_sgd = optim.SGD(model_sgd.parameters(), lr=0.01)\n",
    "\n",
    "num_epochs_sgd = 20\n",
    "train_losses_sgd, train_accuracies_sgd = [], []\n",
    "val_losses_sgd, val_accuracies_sgd = [], []\n",
    "\n",
    "for epoch in range(num_epochs_sgd):\n",
    "    model.train()\n",
    "    for images, labels in train_loader:\n",
    "        optimizer_sgd.zero_grad()\n",
    "        outputs = model_sgd(images)\n",
    "        loss = criterion(outputs, labels)\n",
    "        loss.backward()\n",
    "        optimizer_sgd.step()\n",
    "    \n",
    "    train_loss, train_acc = validate(model_sgd, train_loader, criterion)\n",
    "    val_loss, val_acc = validate(model_sgd, val_loader, criterion)\n",
    "    \n",
    "    train_losses_sgd.append(train_loss)\n",
    "    train_accuracies_sgd.append(train_acc)\n",
    "    val_losses_sgd.append(val_loss)\n",
    "    val_accuracies_sgd.append(val_acc)\n",
    "    \n",
    "    print(f\"Epoch {epoch+1}/{num_epochs_sgd}:\")\n",
    "    print(f\"Train Loss: {train_loss:.4f}, Train Acc: {train_acc:.2f}%\")\n",
    "    print(f\"Val Loss: {val_loss:.4f}, Val Acc: {val_acc:.2f}%\")\n",
    "    print()\n",
    "\n",
    "# Plot SGD training and validation losses and accuracies\n",
    "plt.figure(figsize=(12, 5))\n",
    "plt.subplot(1, 2, 1)\n",
    "plt.plot(train_losses_sgd, label='Train Loss (SGD)')\n",
    "plt.plot(val_losses_sgd, label='Validation Loss (SGD)')\n",
    "plt.xlabel('Epoch')\n",
    "plt.ylabel('Loss')\n",
    "plt.legend()\n",
    "plt.title('SGD Training and Validation Loss')\n",
    "\n",
    "plt.subplot(1, 2, 2)\n",
    "plt.plot(train_accuracies_sgd, label='Train Accuracy (SGD)')\n",
    "plt.plot(val_accuracies_sgd, label='Validation Accuracy (SGD)')\n",
    "plt.xlabel('Epoch')\n",
    "plt.ylabel('Accuracy (%)')\n",
    "plt.legend()\n",
    "plt.title('SGD Training and Validation Accuracy')\n",
    "plt.tight_layout()\n",
    "plt.show()\n",
    "\n",
    "# Evaluate the model on the test set\n",
    "test_loss, test_acc = validate(model, test_loader, criterion)\n",
    "print(f\"Test Loss: {test_loss:.4f}, Test Acc: {test_acc:.2f}%\")\n",
    "\n",
    "# Evaluate the SGD model on the test set\n",
    "test_loss_sgd, test_acc_sgd = validate(model_sgd, test_loader, criterion)\n",
    "print(f\"SGD Test Loss: {test_loss_sgd:.4f}, SGD Test Acc: {test_acc_sgd:.2f}%\")"
   ]
  },
  {
   "cell_type": "markdown",
   "id": "0eaba118-f796-4954-a3a4-a207e7eed6f5",
   "metadata": {},
   "source": [
    "### Q1. How do the accuracy and losses compare to the logistic regression case in the repository from class? How many parameters does this model have. \n",
    "\n",
    "For example, a `Linear(28*28, 100)` layer has 784 inputs and 100 outputs, so 784 slopes and an intercept per output, or 785 parameters per output. So for 100 outputs/activations, we have 78500 parameters!"
   ]
  },
  {
   "cell_type": "markdown",
   "id": "57b6f74d-bc51-4e1c-a555-c1a60cc8ce25",
   "metadata": {},
   "source": [
    "*your answer here*"
   ]
  },
  {
   "cell_type": "markdown",
   "id": "8bf39021-a6e8-4afb-a603-33898f7c4bc7",
   "metadata": {},
   "source": [
    "### Q2. The training loss is lower than the validation set loss, and the training accuracy higher. Is this a good or bad thing?\n",
    "\n",
    "A validation set is an independent dataset where you test your model.\n",
    "\n",
    "### Why do you think your validation accuracy is lower?"
   ]
  },
  {
   "cell_type": "markdown",
   "id": "0f722a61-eeaf-4437-9ef7-6206822dfcd9",
   "metadata": {},
   "source": [
    "*your answer here*"
   ]
  },
  {
   "cell_type": "markdown",
   "id": "0328bd87-51dc-405b-9409-4f3bc500414a",
   "metadata": {},
   "source": [
    "### Q3. Add one more intermediate linear and Relu layer pair and see what accuracy you get. How many parameters does this new model have?\n",
    "\n",
    "To be precise, this is 28x28 inputs to a 100 neuron layer. Then a Relu. Then a 100 neuron to 100 neuron layer. Then a relu. Then a 100 to 10 classes."
   ]
  },
  {
   "cell_type": "code",
   "execution_count": 39,
   "id": "a4b95ff0-b98d-40e2-a25e-c99b970b34c7",
   "metadata": {},
   "outputs": [],
   "source": [
    "# your code here"
   ]
  },
  {
   "cell_type": "markdown",
   "id": "ce217e45-8f60-44f3-b054-48f81fe3a187",
   "metadata": {},
   "source": [
    "*your answer here*"
   ]
  }
 ],
 "metadata": {
  "kernelspec": {
   "display_name": "Python 3 (ipykernel)",
   "language": "python",
   "name": "python3"
  },
  "language_info": {
   "codemirror_mode": {
    "name": "ipython",
    "version": 3
   },
   "file_extension": ".py",
   "mimetype": "text/x-python",
   "name": "python",
   "nbconvert_exporter": "python",
   "pygments_lexer": "ipython3",
   "version": "3.11.10"
  }
 },
 "nbformat": 4,
 "nbformat_minor": 5
}
